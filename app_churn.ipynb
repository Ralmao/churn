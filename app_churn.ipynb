{
  "nbformat": 4,
  "nbformat_minor": 0,
  "metadata": {
    "colab": {
      "provenance": [],
      "authorship_tag": "ABX9TyNLaR5xGjd02LIlIH/Zeygq",
      "include_colab_link": true
    },
    "kernelspec": {
      "name": "python3",
      "display_name": "Python 3"
    },
    "language_info": {
      "name": "python"
    }
  },
  "cells": [
    {
      "cell_type": "markdown",
      "metadata": {
        "id": "view-in-github",
        "colab_type": "text"
      },
      "source": [
        "<a href=\"https://colab.research.google.com/github/Ralmao/churn/blob/main/app_churn.ipynb\" target=\"_parent\"><img src=\"https://colab.research.google.com/assets/colab-badge.svg\" alt=\"Open In Colab\"/></a>"
      ]
    },
    {
      "cell_type": "code",
      "execution_count": null,
      "metadata": {
        "colab": {
          "base_uri": "https://localhost:8080/"
        },
        "id": "hwneCQ5vROAk",
        "outputId": "e9392376-7ea7-45af-d99c-c04a5e63e510"
      },
      "outputs": [
        {
          "output_type": "stream",
          "name": "stdout",
          "text": [
            " * Serving Flask app '__main__'\n",
            " * Debug mode: on\n"
          ]
        },
        {
          "output_type": "stream",
          "name": "stderr",
          "text": [
            "INFO:werkzeug:\u001b[31m\u001b[1mWARNING: This is a development server. Do not use it in a production deployment. Use a production WSGI server instead.\u001b[0m\n",
            " * Running on http://127.0.0.1:3001\n",
            "INFO:werkzeug:\u001b[33mPress CTRL+C to quit\u001b[0m\n",
            "INFO:werkzeug: * Restarting with stat\n"
          ]
        }
      ],
      "source": [
        "import pickle\n",
        "import json\n",
        "from flask import Flask, request\n",
        "import pandas as pd\n",
        "\n",
        "\n",
        "FEATURES = pickle.load(open(\"/content/features.pk\", \"rb\"))\n",
        "\n",
        "model = pickle.load(open(\"/content/model.pk\", \"rb\"))\n",
        "column_equivalence = pickle.load(open(\"/content/column_equivalence.pk\", \"rb\"))\n",
        "\n",
        "# create the Flask app\n",
        "app = Flask(__name__)\n",
        "\n",
        "def convert_numerical(features):\n",
        "    output = []\n",
        "    for i, feat in enumerate(features):\n",
        "        if i in column_equivalence:\n",
        "            output.append(column_equivalence[i][feat])\n",
        "        else:\n",
        "            try:\n",
        "                output.append(pd.to_numeric(feat))\n",
        "            except:\n",
        "                output.append(0)\n",
        "    return output\n",
        "\n",
        "@app.route('/query')\n",
        "def query_example():\n",
        "    features = convert_numerical(request.args.get('feats').split(','))\n",
        "    response = {\n",
        "        'response': [int(x) for x in model.predict([features])]\n",
        "    }\n",
        "    return json.dumps(response)\n",
        "\n",
        "if __name__ == '__main__':\n",
        "    # run app in debug mode on port 3001\n",
        "    app.run(debug=True, port=3001)"
      ]
    }
  ]
}